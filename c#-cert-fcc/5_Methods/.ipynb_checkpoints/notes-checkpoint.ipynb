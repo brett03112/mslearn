{
 "cells": [
  {
   "cell_type": "code",
   "execution_count": null,
   "id": "92d267c8-68aa-4488-b5d6-a337e2ed3b5f",
   "metadata": {},
   "outputs": [],
   "source": [
    "string[,] corporate = \n",
    "{\n",
    "    {\"Robert\", \"Bavin\"}, {\"Simon\", \"Bright\"},\n",
    "    {\"Kim\", \"Sinclair\"}, {\"Aashrita\", \"Kamath\"},\n",
    "    {\"Sarah\", \"Delucchi\"}, {\"Sinan\", \"Ali\"}\n",
    "};\n",
    "\n",
    "string[,] external = \n",
    "{\n",
    "    {\"Vinnie\", \"Ashton\"}, {\"Cody\", \"Dysart\"},\n",
    "    {\"Shay\", \"Lawrence\"}, {\"Daren\", \"Valdes\"}\n",
    "};\n",
    "\n",
    "string externalDomain = \"hayworth.com\";\n",
    "string corporateDomain = \"\"\n",
    "for (int i = 0; i < corporate.GetLength(0); i++) \n",
    "{\n",
    "    // display internal email addresses\n",
    "}\n",
    "\n",
    "for (int i = 0; i < external.GetLength(0); i++) \n",
    "{\n",
    "    // display external email addresses\n",
    "}"
   ]
  }
 ],
 "metadata": {
  "kernelspec": {
   "display_name": ".NET (C#)",
   "language": "C#",
   "name": ".net-csharp"
  },
  "language_info": {
   "file_extension": ".cs",
   "mimetype": "text/x-csharp",
   "name": "C#",
   "pygments_lexer": "csharp",
   "version": "12.0"
  }
 },
 "nbformat": 4,
 "nbformat_minor": 5
}
